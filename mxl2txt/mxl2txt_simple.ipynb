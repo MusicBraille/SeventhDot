{
 "cells": [
  {
   "cell_type": "code",
   "execution_count": 9,
   "id": "807362e4",
   "metadata": {},
   "outputs": [
    {
     "name": "stdout",
     "output_type": "stream",
     "text": [
      "^C\n",
      "Note: you may need to restart the kernel to use updated packages.\n"
     ]
    }
   ],
   "source": [
    "pip install music21"
   ]
  },
  {
   "cell_type": "code",
   "execution_count": 16,
   "id": "2ed2b8c5",
   "metadata": {
    "scrolled": true
   },
   "outputs": [],
   "source": [
    "import music21\n",
    "import csv\n",
    "\n",
    "path = 'test2.mxl'\n",
    "score = music21.converter.parse(path)\n",
    "\n",
    "score_arr = []\n",
    "\n",
    "for i in score.recurse():\n",
    "    if isinstance(i, music21.note.Note):\n",
    "        note = i.name\n",
    "        pitch = i.pitch\n",
    "        octave = pitch.octave\n",
    "        time = i.duration\n",
    "        score_arr.append([note, octave, time.quarterLength])"
   ]
  },
  {
   "cell_type": "code",
   "execution_count": 17,
   "id": "eb63a78c",
   "metadata": {},
   "outputs": [
    {
     "name": "stdout",
     "output_type": "stream",
     "text": [
      "[['F#', 4, 1.0], ['A', 4, 1.5], ['B', 4, 0.5], ['A', 4, 2.0], ['E', 4, 1.0], ['D', 4, 1.0], ['F#', 4, 1.5], ['G', 4, 0.5], ['F#', 4, 2.0], ['C#', 5, 1.0], ['B', 4, 1.0], ['B', 4, 0.5], ['C#', 5, 0.5], ['D', 5, 1.0], ['A', 4, 1.5], ['D', 4, 0.5], ['F#', 4, 1.0], ['G', 4, 1.0], ['G', 4, 0.5], ['F#', 4, 0.5], ['E', 4, 0.5], ['C#', 4, 0.5], ['D', 4, 2.0]]\n"
     ]
    }
   ],
   "source": [
    "print(score_arr)"
   ]
  },
  {
   "cell_type": "code",
   "execution_count": 18,
   "id": "ed059314",
   "metadata": {},
   "outputs": [],
   "source": [
    "second=['0',]\n",
    "for i in range(len(score_arr)):\n",
    "    second.append(str(float(second[i]) + float(score_arr[i][2]) * 0.5))"
   ]
  },
  {
   "cell_type": "code",
   "execution_count": 19,
   "id": "921f05fc",
   "metadata": {},
   "outputs": [
    {
     "name": "stdout",
     "output_type": "stream",
     "text": [
      "['0', '0.5', '1.25', '1.5', '2.5', '3.0', '3.5', '4.25', '4.5', '5.5', '6.0', '6.5', '6.75', '7.0', '7.5', '8.25', '8.5', '9.0', '9.5', '9.75', '10.0', '10.25', '10.5', '11.5']\n"
     ]
    }
   ],
   "source": [
    "print(second)"
   ]
  },
  {
   "cell_type": "code",
   "execution_count": 20,
   "id": "121c1e6c",
   "metadata": {},
   "outputs": [
    {
     "name": "stdout",
     "output_type": "stream",
     "text": [
      "['4분의 1음표 4옥타브 파샾입니다.', '8분의 3음표 4옥타브 라입니다.', '8분의 1음표 4옥타브 시입니다.', '2분의 1음표 4옥타브 라입니다.', '4분의 1음표 4옥타브 미입니다.', '4분의 1음표 4옥타브 레입니다.', '8분의 3음표 4옥타브 파샾입니다.', '8분의 1음표 4옥타브 솔입니다.', '2분의 1음표 4옥타브 파샾입니다.', '4분의 1음표 5옥타브 도샾입니다.', '4분의 1음표 4옥타브 시입니다.', '8분의 1음표 4옥타브 시입니다.', '8분의 1음표 5옥타브 도샾입니다.', '4분의 1음표 5옥타브 레입니다.', '8분의 3음표 4옥타브 라입니다.', '8분의 1음표 4옥타브 레입니다.', '4분의 1음표 4옥타브 파샾입니다.', '4분의 1음표 4옥타브 솔입니다.', '8분의 1음표 4옥타브 솔입니다.', '8분의 1음표 4옥타브 파샾입니다.', '8분의 1음표 4옥타브 미입니다.', '8분의 1음표 4옥타브 도샾입니다.', '2분의 1음표 4옥타브 레입니다.']\n"
     ]
    }
   ],
   "source": [
    "def replace(L):\n",
    "    note_mapping = {\n",
    "        'C': '도',\n",
    "        'D': '레',\n",
    "        'E': '미',\n",
    "        'F': '파',\n",
    "        'G': '솔',\n",
    "        'A': '라',\n",
    "        'B': '시',\n",
    "        '#':  '샾'\n",
    "\n",
    "    }\n",
    "\n",
    "    duration_mapping = {\n",
    "#         4.0: '온음표',\n",
    "#         3.0: '점2분음표',\n",
    "#         2.0: '2분음표',\n",
    "#         1.5: '점4분음표',\n",
    "#         1.0: '4분음표',\n",
    "#         0.5: '8분음표',\n",
    "#         0.25: '16분음표'\n",
    "        4.0: '4분의 4음표',\n",
    "        3.0: '4분의 3음표',\n",
    "        2.0: '2분의 1음표',\n",
    "        1.5: '8분의 3음표',\n",
    "        1.0: '4분의 1음표',\n",
    "        0.5: '8분의 1음표',\n",
    "        0.25: '16분의 1음표'\n",
    "    }\n",
    "\n",
    "    for i, sublist in enumerate(L):\n",
    "        if isinstance(sublist[0], str):\n",
    "            L[i][0] = ''.join(note_mapping.get(char, char) for char in sublist[0])\n",
    "        if isinstance(sublist[2], float):\n",
    "            L[i][2] = duration_mapping.get(sublist[2], sublist[2])\n",
    "\n",
    "    return L\n",
    "\n",
    "replaced_score = replace(score_arr)\n",
    "# print(replaced_list)\n",
    "\n",
    "sentence = []\n",
    "for l in replaced_score:\n",
    "    sentence.append(f\"{l[2]} {l[1]}옥타브 {l[0]}입니다.\")\n",
    "print(sentence)\n",
    "\n",
    "with open(\"mxl2txt.txt\", 'w') as f:\n",
    "    f.writelines(sentence)"
   ]
  },
  {
   "cell_type": "code",
   "execution_count": null,
   "id": "33166588",
   "metadata": {},
   "outputs": [],
   "source": []
  },
  {
   "cell_type": "code",
   "execution_count": null,
   "id": "26dae880",
   "metadata": {},
   "outputs": [],
   "source": []
  }
 ],
 "metadata": {
  "kernelspec": {
   "display_name": "Python 3 (ipykernel)",
   "language": "python",
   "name": "python3"
  },
  "language_info": {
   "codemirror_mode": {
    "name": "ipython",
    "version": 3
   },
   "file_extension": ".py",
   "mimetype": "text/x-python",
   "name": "python",
   "nbconvert_exporter": "python",
   "pygments_lexer": "ipython3",
   "version": "3.9.13"
  }
 },
 "nbformat": 4,
 "nbformat_minor": 5
}
